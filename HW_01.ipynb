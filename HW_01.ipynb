{
 "cells": [
  {
   "cell_type": "code",
   "execution_count": 1,
   "metadata": {
    "scrolled": true
   },
   "outputs": [
    {
     "name": "stderr",
     "output_type": "stream",
     "text": [
      "C:\\Users\\odind\\anaconda3\\envs\\learn_tf_torch\\lib\\site-packages\\tqdm\\auto.py:22: TqdmWarning: IProgress not found. Please update jupyter and ipywidgets. See https://ipywidgets.readthedocs.io/en/stable/user_install.html\n",
      "  from .autonotebook import tqdm as notebook_tqdm\n"
     ]
    }
   ],
   "source": [
    "import torch\n",
    "import numpy as np\n",
    "from torch import nn\n",
    "from torch import optim"
   ]
  },
  {
   "cell_type": "code",
   "execution_count": 2,
   "metadata": {},
   "outputs": [
    {
     "name": "stdout",
     "output_type": "stream",
     "text": [
      "cuda\n"
     ]
    }
   ],
   "source": [
    "device = 'cuda' if torch.cuda.is_available() else 'cpu'\n",
    "print(device)"
   ]
  },
  {
   "cell_type": "markdown",
   "metadata": {},
   "source": [
    "### Создайте случайный FloatTensor размера 3x4x5"
   ]
  },
  {
   "cell_type": "code",
   "execution_count": 3,
   "metadata": {
    "scrolled": false
   },
   "outputs": [
    {
     "data": {
      "text/plain": [
       "(tensor([[[7.3634e+02, 8.8562e-43, 7.3634e+02, 8.8562e-43, 6.6031e+02],\n",
       "          [8.8562e-43, 6.6031e+02, 8.8562e-43, 6.6031e+02, 8.8562e-43],\n",
       "          [6.6031e+02, 8.8562e-43, 6.6031e+02, 8.8562e-43, 6.6031e+02],\n",
       "          [8.8562e-43, 1.1811e+04, 8.8562e-43, 7.3767e+02, 8.8562e-43]],\n",
       " \n",
       "         [[1.1829e+04, 8.8562e-43, 1.1829e+04, 8.8562e-43, 8.3512e+03],\n",
       "          [8.8562e-43, 8.3512e+03, 8.8562e-43, 6.6031e+02, 8.8562e-43],\n",
       "          [6.6031e+02, 8.8562e-43, 1.1615e+03, 8.8562e-43, 1.1615e+03],\n",
       "          [8.8562e-43, 8.3170e+03, 8.8562e-43, 8.3170e+03, 8.8562e-43]],\n",
       " \n",
       "         [[1.1594e+03, 8.8562e-43, 9.4642e+03, 8.8562e-43, 1.1215e+04],\n",
       "          [8.8562e-43, 1.1215e+04, 8.8562e-43, 7.3647e+02, 8.8562e-43],\n",
       "          [7.3647e+02, 8.8562e-43, 1.1246e+04, 8.8562e-43, 1.1246e+04],\n",
       "          [8.8562e-43, 1.1197e+04, 8.8562e-43, 1.1197e+04, 8.8562e-43]]]),\n",
       " torch.float32)"
      ]
     },
     "execution_count": 3,
     "metadata": {},
     "output_type": "execute_result"
    }
   ],
   "source": [
    "a = torch.Tensor(3,4,5)\n",
    "a, a.dtype"
   ]
  },
  {
   "cell_type": "code",
   "execution_count": 4,
   "metadata": {},
   "outputs": [
    {
     "data": {
      "text/plain": [
       "(tensor([[[-1.0081,  0.2108, -0.9213,  0.0522,  0.8581],\n",
       "          [ 1.0470, -1.7368,  0.8922, -0.0636,  0.9201],\n",
       "          [-0.6376, -0.4530,  0.2554,  0.2353, -0.3054],\n",
       "          [-1.9967,  0.2287,  0.5361,  1.7208,  2.1862]],\n",
       " \n",
       "         [[ 0.4197,  1.0758, -0.5443,  0.4352, -1.6536],\n",
       "          [-1.0385, -0.9716, -0.1908, -0.9593,  0.1091],\n",
       "          [ 0.0322, -0.6485,  0.2215,  1.4775, -0.3658],\n",
       "          [ 1.7143,  0.0317,  1.2768, -1.3692,  0.0709]],\n",
       " \n",
       "         [[-1.2102, -1.2505, -0.6242,  1.5749, -0.7130],\n",
       "          [-1.0612,  0.7150,  0.9426,  1.0958, -1.9147],\n",
       "          [-1.5947, -1.4107, -2.2074,  0.7683,  0.1294],\n",
       "          [ 0.1669, -1.0262, -0.2777,  1.0000, -0.3591]]]),\n",
       " torch.float32)"
      ]
     },
     "execution_count": 4,
     "metadata": {},
     "output_type": "execute_result"
    }
   ],
   "source": [
    "a = torch.randn(3,4,5)\n",
    "a, a.dtype"
   ]
  },
  {
   "cell_type": "markdown",
   "metadata": {},
   "source": [
    "### Выведите его форму (shape)"
   ]
  },
  {
   "cell_type": "code",
   "execution_count": 5,
   "metadata": {},
   "outputs": [
    {
     "data": {
      "text/plain": [
       "torch.Size([3, 4, 5])"
      ]
     },
     "execution_count": 5,
     "metadata": {},
     "output_type": "execute_result"
    }
   ],
   "source": [
    "a.shape"
   ]
  },
  {
   "cell_type": "markdown",
   "metadata": {},
   "source": [
    "### Умножьте его на вектор [1, 4, 2, 2, 1] поэлементно"
   ]
  },
  {
   "cell_type": "code",
   "execution_count": 6,
   "metadata": {},
   "outputs": [],
   "source": [
    "# этот пункт был ниже, но там размерность другая, переместил выше поэтому"
   ]
  },
  {
   "cell_type": "code",
   "execution_count": 7,
   "metadata": {},
   "outputs": [
    {
     "data": {
      "text/plain": [
       "tensor([1, 4, 2, 2, 1])"
      ]
     },
     "execution_count": 7,
     "metadata": {},
     "output_type": "execute_result"
    }
   ],
   "source": [
    "b = torch.tensor([1, 4, 2, 2, 1])\n",
    "b"
   ]
  },
  {
   "cell_type": "code",
   "execution_count": 8,
   "metadata": {},
   "outputs": [
    {
     "data": {
      "text/plain": [
       "tensor([[[-1.0081,  0.8433, -1.8426,  0.1044,  0.8581],\n",
       "         [ 1.0470, -6.9470,  1.7845, -0.1272,  0.9201],\n",
       "         [-0.6376, -1.8118,  0.5107,  0.4707, -0.3054],\n",
       "         [-1.9967,  0.9147,  1.0723,  3.4415,  2.1862]],\n",
       "\n",
       "        [[ 0.4197,  4.3031, -1.0887,  0.8704, -1.6536],\n",
       "         [-1.0385, -3.8865, -0.3817, -1.9186,  0.1091],\n",
       "         [ 0.0322, -2.5939,  0.4430,  2.9550, -0.3658],\n",
       "         [ 1.7143,  0.1268,  2.5536, -2.7385,  0.0709]],\n",
       "\n",
       "        [[-1.2102, -5.0020, -1.2484,  3.1498, -0.7130],\n",
       "         [-1.0612,  2.8599,  1.8853,  2.1916, -1.9147],\n",
       "         [-1.5947, -5.6429, -4.4148,  1.5367,  0.1294],\n",
       "         [ 0.1669, -4.1048, -0.5553,  2.0000, -0.3591]]])"
      ]
     },
     "execution_count": 8,
     "metadata": {},
     "output_type": "execute_result"
    }
   ],
   "source": [
    "c = a * b\n",
    "c"
   ]
  },
  {
   "cell_type": "markdown",
   "metadata": {},
   "source": [
    "### Приведите его к форме 6 X 10"
   ]
  },
  {
   "cell_type": "code",
   "execution_count": 9,
   "metadata": {},
   "outputs": [
    {
     "data": {
      "text/plain": [
       "(tensor([[-1.0081,  0.2108, -0.9213,  0.0522,  0.8581,  1.0470, -1.7368,  0.8922,\n",
       "          -0.0636,  0.9201],\n",
       "         [-0.6376, -0.4530,  0.2554,  0.2353, -0.3054, -1.9967,  0.2287,  0.5361,\n",
       "           1.7208,  2.1862],\n",
       "         [ 0.4197,  1.0758, -0.5443,  0.4352, -1.6536, -1.0385, -0.9716, -0.1908,\n",
       "          -0.9593,  0.1091],\n",
       "         [ 0.0322, -0.6485,  0.2215,  1.4775, -0.3658,  1.7143,  0.0317,  1.2768,\n",
       "          -1.3692,  0.0709],\n",
       "         [-1.2102, -1.2505, -0.6242,  1.5749, -0.7130, -1.0612,  0.7150,  0.9426,\n",
       "           1.0958, -1.9147],\n",
       "         [-1.5947, -1.4107, -2.2074,  0.7683,  0.1294,  0.1669, -1.0262, -0.2777,\n",
       "           1.0000, -0.3591]]),\n",
       " torch.Size([6, 10]))"
      ]
     },
     "execution_count": 9,
     "metadata": {},
     "output_type": "execute_result"
    }
   ],
   "source": [
    "a = a.reshape(6,10)\n",
    "a, a.shape"
   ]
  },
  {
   "cell_type": "markdown",
   "metadata": {},
   "source": [
    "### Умножьте тензор матрично на себя, чтобы результат был размерности 6x6"
   ]
  },
  {
   "cell_type": "code",
   "execution_count": 10,
   "metadata": {
    "scrolled": true
   },
   "outputs": [
    {
     "data": {
      "text/plain": [
       "tensor([[ 8.4080, -0.0450, -0.4996,  2.4213, -2.3415,  4.8102],\n",
       "        [-0.0450, 12.8926,  0.0504, -4.1430,  2.2544,  1.4523],\n",
       "        [-0.4996,  0.0504,  7.5445, -0.2901, -0.6816, -0.9865],\n",
       "        [ 2.4213, -4.1430, -0.2901,  9.2371,  0.9922, -0.0333],\n",
       "        [-2.3415,  2.2544, -0.6816,  0.9922, 13.7993,  6.8004],\n",
       "        [ 4.8102,  1.4523, -0.9865, -0.0333,  6.8004, 12.2999]])"
      ]
     },
     "execution_count": 10,
     "metadata": {},
     "output_type": "execute_result"
    }
   ],
   "source": [
    "d = a @ a.T\n",
    "d"
   ]
  },
  {
   "cell_type": "code",
   "execution_count": 11,
   "metadata": {},
   "outputs": [
    {
     "data": {
      "text/plain": [
       "tensor([[ 8.4080, -0.0450, -0.4996,  2.4213, -2.3415,  4.8102],\n",
       "        [-0.0450, 12.8926,  0.0504, -4.1430,  2.2544,  1.4523],\n",
       "        [-0.4996,  0.0504,  7.5445, -0.2901, -0.6816, -0.9865],\n",
       "        [ 2.4213, -4.1430, -0.2901,  9.2371,  0.9922, -0.0333],\n",
       "        [-2.3415,  2.2544, -0.6816,  0.9922, 13.7993,  6.8004],\n",
       "        [ 4.8102,  1.4523, -0.9865, -0.0333,  6.8004, 12.2999]])"
      ]
     },
     "execution_count": 11,
     "metadata": {},
     "output_type": "execute_result"
    }
   ],
   "source": [
    "d = a.matmul(a.T)\n",
    "d"
   ]
  },
  {
   "cell_type": "markdown",
   "metadata": {},
   "source": [
    "### Посчитайте производную функции y = x**3 + z - 75t в точке (1, 0.5, 2)"
   ]
  },
  {
   "cell_type": "code",
   "execution_count": 12,
   "metadata": {},
   "outputs": [],
   "source": [
    "# y'_x = 3x^2\n",
    "# y'_z = 1\n",
    "# y'_t = -75"
   ]
  },
  {
   "cell_type": "code",
   "execution_count": 13,
   "metadata": {},
   "outputs": [
    {
     "data": {
      "text/plain": [
       "tensor(-148.5000, grad_fn=<SubBackward0>)"
      ]
     },
     "execution_count": 13,
     "metadata": {},
     "output_type": "execute_result"
    }
   ],
   "source": [
    "x = torch.tensor((1.), requires_grad=True)\n",
    "z = torch.tensor((0.5), requires_grad=True)\n",
    "t = torch.tensor((2.), requires_grad=True)\n",
    "\n",
    "y = x**3 + z - 75*t\n",
    "y"
   ]
  },
  {
   "cell_type": "code",
   "execution_count": 14,
   "metadata": {},
   "outputs": [
    {
     "data": {
      "text/plain": [
       "(tensor(3.), tensor(1.), tensor(-75.))"
      ]
     },
     "execution_count": 14,
     "metadata": {},
     "output_type": "execute_result"
    }
   ],
   "source": [
    "y.backward(x)\n",
    "x.grad, z.grad, t.grad"
   ]
  },
  {
   "cell_type": "markdown",
   "metadata": {},
   "source": [
    "### Создайте единичный тензор размера 5x6"
   ]
  },
  {
   "cell_type": "code",
   "execution_count": 15,
   "metadata": {},
   "outputs": [
    {
     "data": {
      "text/plain": [
       "(tensor([[1., 1., 1., 1., 1., 1.],\n",
       "         [1., 1., 1., 1., 1., 1.],\n",
       "         [1., 1., 1., 1., 1., 1.],\n",
       "         [1., 1., 1., 1., 1., 1.],\n",
       "         [1., 1., 1., 1., 1., 1.]]),\n",
       " torch.Size([5, 6]))"
      ]
     },
     "execution_count": 15,
     "metadata": {},
     "output_type": "execute_result"
    }
   ],
   "source": [
    "a = torch.ones((5,6))\n",
    "a, a.shape"
   ]
  },
  {
   "cell_type": "markdown",
   "metadata": {},
   "source": [
    "### Переведите его в формат numpy"
   ]
  },
  {
   "cell_type": "code",
   "execution_count": 16,
   "metadata": {},
   "outputs": [
    {
     "data": {
      "text/plain": [
       "array([[1., 1., 1., 1., 1., 1.],\n",
       "       [1., 1., 1., 1., 1., 1.],\n",
       "       [1., 1., 1., 1., 1., 1.],\n",
       "       [1., 1., 1., 1., 1., 1.],\n",
       "       [1., 1., 1., 1., 1., 1.]], dtype=float32)"
      ]
     },
     "execution_count": 16,
     "metadata": {},
     "output_type": "execute_result"
    }
   ],
   "source": [
    "a_np = a.numpy()\n",
    "a_np"
   ]
  },
  {
   "cell_type": "markdown",
   "metadata": {},
   "source": [
    "### Давайте теперь пооптимизируем: возьмите функцию $y = x^{w1} - 2 \\cdot x^2 + 5$\n",
    "#### Посчитайте "
   ]
  },
  {
   "cell_type": "code",
   "execution_count": 17,
   "metadata": {
    "scrolled": false
   },
   "outputs": [
    {
     "data": {
      "text/plain": [
       "(Parameter containing:\n",
       " tensor([[-0.2264,  0.3551],\n",
       "         [-0.6737, -0.1515]], requires_grad=True),\n",
       " Parameter containing:\n",
       " tensor([-0.3920, -0.0732], requires_grad=True))"
      ]
     },
     "execution_count": 17,
     "metadata": {},
     "output_type": "execute_result"
    }
   ],
   "source": [
    "linear = nn.Linear(2, 2, bias=True)\n",
    "linear.weight, linear.bias"
   ]
  },
  {
   "cell_type": "code",
   "execution_count": 18,
   "metadata": {},
   "outputs": [],
   "source": [
    "criterion = nn.MSELoss()\n",
    "\n",
    "optimizer = optim.SGD(linear.parameters(), lr=0.01)"
   ]
  },
  {
   "cell_type": "code",
   "execution_count": 19,
   "metadata": {},
   "outputs": [
    {
     "name": "stderr",
     "output_type": "stream",
     "text": [
      "C:\\Users\\odind\\AppData\\Local\\Temp\\ipykernel_7620\\4206322250.py:3: UserWarning: Using a target size (torch.Size([2])) that is different to the input size (torch.Size([2, 2])). This will likely lead to incorrect results due to broadcasting. Please ensure they have the same size.\n",
      "  mse = nn.functional.mse_loss(y, x)\n"
     ]
    },
    {
     "data": {
      "text/plain": [
       "(tensor([ 1.2695, -0.1464], requires_grad=True),\n",
       " Parameter containing:\n",
       " tensor([[-0.2264,  0.3551],\n",
       "         [-0.6737, -0.1515]], requires_grad=True),\n",
       " tensor([[2.7240, 5.4626],\n",
       "         [2.6281, 6.2949]], grad_fn=<AddBackward0>),\n",
       " tensor(19.2285, grad_fn=<MseLossBackward0>))"
      ]
     },
     "execution_count": 19,
     "metadata": {},
     "output_type": "execute_result"
    }
   ],
   "source": [
    "x = torch.randn(2, requires_grad=True)\n",
    "y = torch.abs(x)**linear.weight - 2 * x**2 + 5\n",
    "mse = nn.functional.mse_loss(y, x)\n",
    "x, linear.weight, y, mse"
   ]
  },
  {
   "cell_type": "code",
   "execution_count": 20,
   "metadata": {},
   "outputs": [],
   "source": [
    "optimizer.zero_grad()  # обнуление градиентов перед обучением"
   ]
  },
  {
   "cell_type": "code",
   "execution_count": 21,
   "metadata": {},
   "outputs": [],
   "source": [
    "pred = linear(x)"
   ]
  },
  {
   "cell_type": "code",
   "execution_count": 22,
   "metadata": {},
   "outputs": [
    {
     "name": "stdout",
     "output_type": "stream",
     "text": [
      "loss tensor(401.9036, grad_fn=<MseLossBackward0>) \n",
      "loss_item 401.90362548828125\n"
     ]
    },
    {
     "name": "stderr",
     "output_type": "stream",
     "text": [
      "C:\\Users\\odind\\anaconda3\\envs\\learn_tf_torch\\lib\\site-packages\\torch\\nn\\modules\\loss.py:536: UserWarning: Using a target size (torch.Size([])) that is different to the input size (torch.Size([2])). This will likely lead to incorrect results due to broadcasting. Please ensure they have the same size.\n",
      "  return F.mse_loss(input, target, reduction=self.reduction)\n"
     ]
    }
   ],
   "source": [
    "loss = criterion(pred, mse)\n",
    "print('loss', loss, '\\nloss_item', loss.item())"
   ]
  },
  {
   "cell_type": "code",
   "execution_count": 23,
   "metadata": {},
   "outputs": [
    {
     "data": {
      "text/plain": [
       "(None, None)"
      ]
     },
     "execution_count": 23,
     "metadata": {},
     "output_type": "execute_result"
    }
   ],
   "source": [
    "linear.weight.grad, linear.bias.grad"
   ]
  },
  {
   "cell_type": "code",
   "execution_count": 24,
   "metadata": {},
   "outputs": [],
   "source": [
    "loss.backward()"
   ]
  },
  {
   "cell_type": "code",
   "execution_count": 25,
   "metadata": {},
   "outputs": [
    {
     "data": {
      "text/plain": [
       "(tensor([[ -18.7473, -106.2848],\n",
       "         [ -20.0273, -328.9179]]),\n",
       " tensor([-19.9600, -20.1347]))"
      ]
     },
     "execution_count": 25,
     "metadata": {},
     "output_type": "execute_result"
    }
   ],
   "source": [
    "linear.weight.grad, linear.bias.grad"
   ]
  },
  {
   "cell_type": "code",
   "execution_count": 26,
   "metadata": {},
   "outputs": [
    {
     "name": "stdout",
     "output_type": "stream",
     "text": [
      "BEFORE:\n",
      "w:  Parameter containing:\n",
      "tensor([[-0.2264,  0.3551],\n",
      "        [-0.6737, -0.1515]], requires_grad=True) \n",
      "b:  Parameter containing:\n",
      "tensor([-0.3920, -0.0732], requires_grad=True)\n",
      "\n",
      "AFTER:\n",
      "w:  Parameter containing:\n",
      "tensor([[-0.0390,  1.4179],\n",
      "        [-0.4734,  3.1377]], requires_grad=True) \n",
      "b:  Parameter containing:\n",
      "tensor([-0.1924,  0.1282], requires_grad=True)\n"
     ]
    }
   ],
   "source": [
    "# optimization\n",
    "\n",
    "print('BEFORE:\\nw: ', linear.weight, '\\nb: ', linear.bias)\n",
    "\n",
    "# step\n",
    "optimizer.step()\n",
    "\n",
    "print('\\nAFTER:\\nw: ', linear.weight, '\\nb: ', linear.bias)"
   ]
  },
  {
   "cell_type": "code",
   "execution_count": null,
   "metadata": {},
   "outputs": [],
   "source": []
  }
 ],
 "metadata": {
  "kernelspec": {
   "display_name": "Python 3 (ipykernel)",
   "language": "python",
   "name": "python3"
  },
  "language_info": {
   "codemirror_mode": {
    "name": "ipython",
    "version": 3
   },
   "file_extension": ".py",
   "mimetype": "text/x-python",
   "name": "python",
   "nbconvert_exporter": "python",
   "pygments_lexer": "ipython3",
   "version": "3.9.13"
  }
 },
 "nbformat": 4,
 "nbformat_minor": 2
}
